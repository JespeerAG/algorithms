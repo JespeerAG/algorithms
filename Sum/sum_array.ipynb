{
 "cells": [
  {
   "cell_type": "markdown",
   "metadata": {},
   "source": [
    "# Sum-Array\n",
    "\n",
    "### Definition\n",
    "\n",
    "**Input**: A sequence of at least $n$ numbers $<a_1, a_2, ..., a_n, ...>$, identified as `array`.\n",
    "\n",
    "**Output**: The sum of the first $n$ numbers in the array.\n",
    "\n",
    "### Algorithm\n",
    "\n",
    "The algorithm simply consists of going through each number and adding it to an overall sum."
   ]
  },
  {
   "cell_type": "code",
   "execution_count": 1,
   "metadata": {},
   "outputs": [],
   "source": [
    "def sum_array(array):\n",
    "    sum = 0\n",
    "    for i in range(0, len(array)):\n",
    "        sum += array[i]\n",
    "    return sum"
   ]
  },
  {
   "cell_type": "markdown",
   "metadata": {},
   "source": [
    "### Testing"
   ]
  },
  {
   "cell_type": "code",
   "execution_count": 3,
   "metadata": {},
   "outputs": [
    {
     "name": "stdout",
     "output_type": "stream",
     "text": [
      "Array [1, 4, 3, 5, 15, 2, 16] has sum 46\n",
      "Array [6, 5, 4, 3, 2, 1] has sum 21\n",
      "Array [12, 3, 4, 7, 9] has sum 35\n"
     ]
    }
   ],
   "source": [
    "test_array_1 = [1, 4, 3, 5, 15, 2, 16]\n",
    "test_array_2 = [6, 5, 4, 3, 2, 1]\n",
    "test_array_3 = [12, 3, 4, 7, 9]\n",
    "\n",
    "for array in [test_array_1, test_array_2, test_array_3]:\n",
    "    print(f\"Array {str(array)} has sum {sum_array(array)}\")"
   ]
  },
  {
   "cell_type": "markdown",
   "metadata": {},
   "source": [
    "### Proof by Loop Invariant\n",
    "\n",
    "> *Invariant Claim*: At the beginning of the $i^{th}$ loop, `sum` equals the sum of the elements `array[0:i]`.\n",
    "\n",
    "Let $n$ be `len(array)`.\n",
    "\n",
    "**Initialization**: At the beginning, `i = 0` and `array[0:0] = []` is an empty array, so its sum is vacuously `0`.\n",
    "\n",
    "**Maintenance**: Suppose at the beginning of the $i^{th}$ loop, `sum` equals the sum of the elements of `array[0:i]`. Then after one iteration of the loop, we will have added `array[i]` to `sum`, which is by definition the sum of `array[0:i+1]`. Thus the invariant is maintained at the beginning of the $i+1^{th}$ loop.\n",
    "\n",
    "**Termination**: The algorithm terminates with $i = n$. By invariant claim, `sum` is the sum of the elements of `array[0:n]`, i.e. the first $n$ numbers in the array."
   ]
  }
 ],
 "metadata": {
  "kernelspec": {
   "display_name": "Python 3",
   "language": "python",
   "name": "python3"
  },
  "language_info": {
   "codemirror_mode": {
    "name": "ipython",
    "version": 3
   },
   "file_extension": ".py",
   "mimetype": "text/x-python",
   "name": "python",
   "nbconvert_exporter": "python",
   "pygments_lexer": "ipython3",
   "version": "3.11.5"
  },
  "orig_nbformat": 4
 },
 "nbformat": 4,
 "nbformat_minor": 2
}
