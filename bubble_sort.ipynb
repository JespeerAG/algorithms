{
 "cells": [
  {
   "cell_type": "markdown",
   "metadata": {
    "notebookRunGroups": {
     "groupValue": ""
    }
   },
   "source": [
    "# Bubble-Sort\n",
    "\n",
    "### Definition\n",
    "\n",
    "**Input**: A sequence of $n$ distinct numbers $<a_1, a_2, ..., a_n>$, identified as `array`.\n",
    "\n",
    "**Output**: A permutation $<b_1, b_2, ..., b_n>$ of the input sequence such that $b_1 \\leq b_2 \\leq ... \\leq b_n$\n",
    "\n",
    "The numbers to be sorted are known as the **keys**.\n",
    "\n",
    "### Algorithm\n",
    "\n",
    "The algorithm can be thought of as \"swapping pairs\". Starting from the end of `array[i:n]`, we verify if each pair `(array[j], array[j-1])` is correctly ordered and swap it if it is not."
   ]
  },
  {
   "cell_type": "code",
   "execution_count": 1,
   "metadata": {},
   "outputs": [],
   "source": [
    "def bubble_sort (array):\n",
    "    length = len(array)\n",
    "    for i in range(length - 1):\n",
    "        for j in reversed(range(i + 1, length)):\n",
    "            if array[j] < array[j - 1]:\n",
    "                array[j], array[j - 1] = array[j - 1], array[j]"
   ]
  },
  {
   "cell_type": "markdown",
   "metadata": {},
   "source": [
    "### Testing"
   ]
  },
  {
   "cell_type": "code",
   "execution_count": 2,
   "metadata": {},
   "outputs": [
    {
     "name": "stdout",
     "output_type": "stream",
     "text": [
      "[2, 3, 4, 5, 7, 15, 16]\n",
      "[1, 2, 3, 4, 5, 6]\n",
      "[3, 4, 7, 9, 12]\n"
     ]
    }
   ],
   "source": [
    "test_array_1 = [7, 4, 3, 5, 15, 2, 16]\n",
    "test_array_2 = [6, 5, 4, 3, 2, 1]\n",
    "test_array_3 = [12, 3, 4, 7, 9]\n",
    "\n",
    "for array in [test_array_1, test_array_2, test_array_3]:\n",
    "    bubble_sort(array)\n",
    "    print(array)"
   ]
  },
  {
   "cell_type": "markdown",
   "metadata": {},
   "source": [
    "### Performance\n",
    "\n",
    "In the worst case, the initial array is in decreasing order. Then, for each inner `for` loop, we need to perform the swapping - as a result, we have a $\\Theta(n^2)$ worst-case running time."
   ]
  }
 ],
 "metadata": {
  "kernelspec": {
   "display_name": "Python 3",
   "language": "python",
   "name": "python3"
  },
  "language_info": {
   "codemirror_mode": {
    "name": "ipython",
    "version": 3
   },
   "file_extension": ".py",
   "mimetype": "text/x-python",
   "name": "python",
   "nbconvert_exporter": "python",
   "pygments_lexer": "ipython3",
   "version": "3.11.5"
  },
  "orig_nbformat": 4
 },
 "nbformat": 4,
 "nbformat_minor": 2
}
