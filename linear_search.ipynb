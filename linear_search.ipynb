{
 "cells": [
  {
   "cell_type": "markdown",
   "metadata": {},
   "source": [
    "# Linear-Search\n",
    "### Definition\n",
    "\n",
    "**Input**: A sequence of $n$ numbers $<a_1, a_2, ..., a_n>$, identified as `array`, and a value $x$.\n",
    "\n",
    "**Output**: An index $i$ where $x = a_i$, or $NULL$ if such an index does not exist.\n",
    "\n",
    "### Algorithm\n",
    "\n",
    "The algorithm simply consists of going through each array number and verifying if it matches $x$."
   ]
  },
  {
   "cell_type": "code",
   "execution_count": 1,
   "metadata": {},
   "outputs": [],
   "source": [
    "def linear_search(array, target):\n",
    "    for i in range(0, len(array)):\n",
    "        if (array[i] == target):\n",
    "            return i\n",
    "    return None # This is explicit for readability, but would be authomatic in Python"
   ]
  },
  {
   "cell_type": "markdown",
   "metadata": {},
   "source": [
    "### Testing"
   ]
  },
  {
   "cell_type": "code",
   "execution_count": 2,
   "metadata": {},
   "outputs": [
    {
     "name": "stdout",
     "output_type": "stream",
     "text": [
      "Index for searching 15 in [1, 4, 3, 5, 15, 2, 16] is 4\n",
      "Index for searching 7 in [6, 5, 4, 3, 2, 1] is None\n",
      "Index for searching 12 in [12, 3, 4, 7, 9] is 0\n"
     ]
    }
   ],
   "source": [
    "test_array_1 = [1, 4, 3, 5, 15, 2, 16]\n",
    "test_array_2 = [6, 5, 4, 3, 2, 1]\n",
    "test_array_3 = [12, 3, 4, 7, 9]\n",
    "target_1 = 15 # Position 4\n",
    "target_2 = 7 # Not in the array\n",
    "target_3 = 12 # Position 0\n",
    "\n",
    "for array, target in zip([test_array_1, test_array_2, test_array_3], [target_1, target_2, target_3]):\n",
    "    print(f\"Index for searching {target} in {str(array)} is {linear_search(array, target)}\")"
   ]
  }
 ],
 "metadata": {
  "kernelspec": {
   "display_name": "Python 3",
   "language": "python",
   "name": "python3"
  },
  "language_info": {
   "codemirror_mode": {
    "name": "ipython",
    "version": 3
   },
   "file_extension": ".py",
   "mimetype": "text/x-python",
   "name": "python",
   "nbconvert_exporter": "python",
   "pygments_lexer": "ipython3",
   "version": "3.11.5"
  },
  "orig_nbformat": 4
 },
 "nbformat": 4,
 "nbformat_minor": 2
}
