{
 "cells": [
  {
   "cell_type": "markdown",
   "metadata": {},
   "source": [
    "# Binary-Search\n",
    "### Definition\n",
    "\n",
    "**Input**: An ordered sequence of $n$ numbers $<a_1, a_2, ..., a_n>$, identified as `array`, and a value $x$. The ordering is assumed to be increasing, i.e. $a_1 \\leq a_2 \\leq ... \\leq a_n$.\n",
    "\n",
    "**Output**: An index $i$ where $x = a_i$, or $NULL$ if such an index does not exist.\n",
    "\n",
    "### Algorithm\n",
    "\n",
    "The algorithm simply consists of going through each array number and verifying if it matches $x$."
   ]
  },
  {
   "cell_type": "code",
   "execution_count": 30,
   "metadata": {},
   "outputs": [],
   "source": [
    "def binary_search(sorted_array, target, left_boundary, right_boundary):\n",
    "    if right_boundary <= left_boundary:\n",
    "        return\n",
    "    if target == sorted_array[left_boundary]:\n",
    "        return left_boundary\n",
    "    if target == sorted_array[right_boundary]:\n",
    "        return right_boundary\n",
    "    midpoint = (left_boundary + right_boundary) // 2\n",
    "    if target > sorted_array[midpoint]:\n",
    "        left_boundary = midpoint + 1\n",
    "    else:\n",
    "        right_boundary = midpoint\n",
    "    return binary_search(sorted_array, target, left_boundary, right_boundary)"
   ]
  },
  {
   "cell_type": "markdown",
   "metadata": {},
   "source": [
    "### Testing"
   ]
  },
  {
   "cell_type": "code",
   "execution_count": 31,
   "metadata": {},
   "outputs": [
    {
     "name": "stdout",
     "output_type": "stream",
     "text": [
      "Index for searching 16 in [1, 3, 4, 6, 7, 16, 18] is 5\n",
      "Index for searching 7 in [1, 2, 4, 6, 8] is None\n",
      "Index for searching 12 in [3, 4, 7, 9, 12] is 4\n"
     ]
    }
   ],
   "source": [
    "test_array_1 = [1, 3, 4, 6, 7, 16, 18]\n",
    "test_array_2 = [1, 2, 4, 6, 8]\n",
    "test_array_3 = [3, 4, 7, 9, 12]\n",
    "target_1 = 16 # Position 5\n",
    "target_2 = 7 # Not in the array\n",
    "target_3 = 12 # Position 0\n",
    "\n",
    "for array, target in zip([test_array_1, test_array_2, test_array_3], [target_1, target_2, target_3]):\n",
    "    print(f\"Index for searching {target} in {str(array)} is {binary_search(array, target, 0, len(array) - 1)}\")"
   ]
  }
 ],
 "metadata": {
  "kernelspec": {
   "display_name": "Python 3",
   "language": "python",
   "name": "python3"
  },
  "language_info": {
   "codemirror_mode": {
    "name": "ipython",
    "version": 3
   },
   "file_extension": ".py",
   "mimetype": "text/x-python",
   "name": "python",
   "nbconvert_exporter": "python",
   "pygments_lexer": "ipython3",
   "version": "3.11.5"
  },
  "orig_nbformat": 4
 },
 "nbformat": 4,
 "nbformat_minor": 2
}
