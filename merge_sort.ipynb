{
 "cells": [
  {
   "cell_type": "markdown",
   "metadata": {
    "notebookRunGroups": {
     "groupValue": ""
    }
   },
   "source": [
    "# Merge-Sort\n",
    "\n",
    "### Definition\n",
    "\n",
    "**Input**: A sequence of $n$ distinct numbers $<a_1, a_2, ..., a_n>$, identified as `array`.\n",
    "\n",
    "**Output**: A permutation $<b_1, b_2, ..., b_n>$ of the input sequence such that $b_1 \\leq b_2 \\leq ... \\leq b_n$\n",
    "\n",
    "### General Algorithm\n",
    "\n",
    "The algorithm is a divide-and-conquer type of algorithm. It works in two phases:\n",
    "- Division: The array is divided in halves, then quarters, ... until each divided sub-array contains exactly one element.\n",
    "- Merge: The sub-arrays are merged together with an algorithm (Merge) which, given two sorted sub-arrays, yields the sorted merge of the two. Since singleton arrays are vacuously sorted, the result will be sorted."
   ]
  },
  {
   "cell_type": "markdown",
   "metadata": {},
   "source": [
    "## Merge\n",
    "\n",
    "### Definition\n",
    "\n",
    "**Input**: Two sequences of $n$ and $m$ numbers $<a_1, a_2, ..., a_n>$, $<b_1, b_2, ..., b_m>$.\n",
    "\n",
    "**Output**: An array $<c_1, c_2, ..., c_{n+m}> given by a permutation of the union of the two original sequences such that $c_1 \\leq c_2 \\leq ... \\leq c_{n+m}$\n",
    "\n",
    "### Merge Algorithm\n",
    "\n",
    "The algorithm cycles through both sequences at the same time, comparing which one has the smallest element and pulling it in the output, and then moving forward in the respective sequence. In case one sequence was exhausted before the other one, the remaining elements of the other sequence are added in extension to the output. Assuming equal length, this algorithm scans through both sequences exactly once, so it has linear running time."
   ]
  },
  {
   "cell_type": "code",
   "execution_count": 14,
   "metadata": {},
   "outputs": [],
   "source": [
    "def merge (left_array, right_array):\n",
    "    left_length = len(left_array)\n",
    "    right_length = len(right_array)\n",
    "    return_array = []\n",
    "    left_i, right_i = (0, 0)\n",
    "    while left_i < left_length and right_i < right_length:\n",
    "        if left_array[left_i] <= right_array[right_i]:\n",
    "            return_array.append(left_array[left_i])\n",
    "            left_i += 1\n",
    "        else:\n",
    "            return_array.append(right_array[right_i])\n",
    "            right_i += 1\n",
    "    return_array.extend(left_array[left_i:])\n",
    "    return_array.extend(right_array[right_i:])\n",
    "    return return_array\n",
    "\n",
    "\n",
    "def indexed_merge (array, left_boundary, midpoint, right_boundary):\n",
    "    left_array = array[left_boundary: midpoint + 1]\n",
    "    right_array = array[midpoint + 1: right_boundary]\n",
    "    return merge(left_array, right_array)"
   ]
  },
  {
   "cell_type": "markdown",
   "metadata": {},
   "source": [
    "### Testing"
   ]
  },
  {
   "cell_type": "code",
   "execution_count": 15,
   "metadata": {},
   "outputs": [
    {
     "name": "stdout",
     "output_type": "stream",
     "text": [
      "[1, 2, 4, 5, 7, 8, 17, 20]\n",
      "[1, 3, 4, 5, 8, 9, 10, 10, 16, 20]\n"
     ]
    }
   ],
   "source": [
    "test_left_array_1 = [1, 4, 7, 17]\n",
    "test_right_array_1 = [2, 5, 8, 20]\n",
    "test_left_array_2 = [3, 4, 5, 8, 10, 16, 20]\n",
    "test_right_array_2 = [1, 9, 10]\n",
    "\n",
    "for left_array, right_array in zip((test_left_array_1, test_left_array_2), (test_right_array_1, test_right_array_2)):\n",
    "    print(merge(left_array, right_array))"
   ]
  }
 ],
 "metadata": {
  "kernelspec": {
   "display_name": "Python 3",
   "language": "python",
   "name": "python3"
  },
  "language_info": {
   "codemirror_mode": {
    "name": "ipython",
    "version": 3
   },
   "file_extension": ".py",
   "mimetype": "text/x-python",
   "name": "python",
   "nbconvert_exporter": "python",
   "pygments_lexer": "ipython3",
   "version": "3.11.5"
  },
  "orig_nbformat": 4
 },
 "nbformat": 4,
 "nbformat_minor": 2
}
