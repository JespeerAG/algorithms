{
 "cells": [
  {
   "cell_type": "markdown",
   "metadata": {
    "notebookRunGroups": {
     "groupValue": ""
    }
   },
   "source": [
    "# Merge-Sort\n",
    "\n",
    "### Definition\n",
    "\n",
    "**Input**: A sequence of $n$ distinct numbers $<a_1, a_2, ..., a_n>$, identified as `array`.\n",
    "\n",
    "**Output**: A permutation $<b_1, b_2, ..., b_n>$ of the input sequence such that $b_1 \\leq b_2 \\leq ... \\leq b_n$\n",
    "\n",
    "### General Algorithm\n",
    "\n",
    "The algorithm is a divide-and-conquer type of algorithm. It works in two phases:\n",
    "- Division: The array is divided in halves, then quarters, ... until each divided sub-array contains exactly one element.\n",
    "- Merge: The sub-arrays are merged together with an algorithm (Merge) which, given two sorted sub-arrays, yields the sorted merge of the two. Since singleton arrays are vacuously sorted, the result will be sorted."
   ]
  },
  {
   "cell_type": "markdown",
   "metadata": {},
   "source": [
    "## Merge\n",
    "\n",
    "### Definition\n",
    "\n",
    "**Input**: Two sequences of $n$ and $m$ numbers $<a_1, a_2, ..., a_n>$, $<b_1, b_2, ..., b_m>$.\n",
    "\n",
    "**Output**: An array $<c_1, c_2, ..., c_{n+m}> given by a permutation of the union of the two original sequences such that $c_1 \\leq c_2 \\leq ... \\leq c_{n+m}$\n",
    "\n",
    "### Merge Algorithm\n",
    "\n",
    "The algorithm cycles through both sequences at the same time, comparing which one has the smallest element and pulling it in the output, and then moving forward in the respective sequence. In case one sequence was exhausted before the other one, the remaining elements of the other sequence are added in extension to the output. Assuming equal length, this algorithm scans through both sequences exactly once, so it has linear running time. \\\n",
    "The algorithm has been implemented as `merge`, which does not merge in place, and `indexed_merge`, which merges in place using indices."
   ]
  },
  {
   "cell_type": "code",
   "execution_count": 62,
   "metadata": {},
   "outputs": [],
   "source": [
    "def merge (left_array, right_array):\n",
    "    left_length = len(left_array)\n",
    "    right_length = len(right_array)\n",
    "    return_array = []\n",
    "    left_i, right_i = (0, 0)\n",
    "    while left_i < left_length and right_i < right_length:\n",
    "        if left_array[left_i] <= right_array[right_i]:\n",
    "            return_array.append(left_array[left_i])\n",
    "            left_i += 1\n",
    "        else:\n",
    "            return_array.append(right_array[right_i])\n",
    "            right_i += 1\n",
    "    return_array.extend(left_array[left_i:])\n",
    "    return_array.extend(right_array[right_i:])\n",
    "    return return_array"
   ]
  },
  {
   "cell_type": "code",
   "execution_count": 63,
   "metadata": {},
   "outputs": [],
   "source": [
    "def inplace_merge (array, left_boundary, midpoint, right_boundary):\n",
    "    left_array = array[left_boundary : midpoint]\n",
    "    right_array = array[midpoint : right_boundary]\n",
    "    left_i = 0\n",
    "    right_i = 0\n",
    "    out_i = left_boundary\n",
    "    while left_i < len(left_array) and right_i < len(right_array):\n",
    "        if left_array[left_i] <= right_array[right_i]:\n",
    "            array[out_i] = left_array[left_i]\n",
    "            left_i += 1\n",
    "        else:\n",
    "            array[out_i] = right_array[right_i]\n",
    "            right_i += 1\n",
    "        out_i += 1\n",
    "    while left_i < len(left_array):\n",
    "        array[out_i] = left_array[left_i]\n",
    "        left_i += 1\n",
    "        out_i += 1\n",
    "    while right_i < len(right_array):\n",
    "        array[out_i] = right_array[right_i]\n",
    "        right_i += 1\n",
    "        out_i += 1"
   ]
  },
  {
   "cell_type": "markdown",
   "metadata": {},
   "source": [
    "### Testing (Merge)"
   ]
  },
  {
   "cell_type": "code",
   "execution_count": 64,
   "metadata": {},
   "outputs": [
    {
     "name": "stdout",
     "output_type": "stream",
     "text": [
      "[1, 2, 4, 5, 7, 8, 17, 20]\n",
      "[1, 3, 4, 5, 8, 9, 10, 10, 16, 20]\n"
     ]
    }
   ],
   "source": [
    "test_left_array_1 = [1, 4, 7, 17]\n",
    "test_right_array_1 = [2, 5, 8, 20]\n",
    "test_left_array_2 = [3, 4, 5, 8, 10, 16, 20]\n",
    "test_right_array_2 = [1, 9, 10]\n",
    "\n",
    "for left_array, right_array in zip((test_left_array_1, test_left_array_2), (test_right_array_1, test_right_array_2)):\n",
    "    print(merge(left_array, right_array))"
   ]
  },
  {
   "cell_type": "markdown",
   "metadata": {},
   "source": [
    "### Testing (Indexed-Merge)"
   ]
  },
  {
   "cell_type": "code",
   "execution_count": 65,
   "metadata": {},
   "outputs": [
    {
     "name": "stdout",
     "output_type": "stream",
     "text": [
      "[1, 2, 4, 5, 7, 8, 17, 20]\n",
      "[3, 4, 5, 1, 8, 9, 10, 16, 20, 10]\n"
     ]
    }
   ],
   "source": [
    "test_array_1 = [1, 4, 7, 17, 2, 5, 8, 20]\n",
    "left_boundary_1 = 0\n",
    "right_boundary_1 = len(test_array_1)\n",
    "midpoint_1 = 4\n",
    "test_array_2 = [3, 4, 5, 8, 10, 16, 20, 1, 9, 10]\n",
    "left_boundary_2 = 3\n",
    "right_boundary_2 = len(test_array_2) - 1\n",
    "midpoint_2 = 7\n",
    "\n",
    "for array, left_boundary, midpoint, right_boundary in zip(\n",
    "    (test_array_1, test_array_2),\n",
    "    (left_boundary_1, left_boundary_2),\n",
    "    (midpoint_1, midpoint_2),\n",
    "    (right_boundary_1, right_boundary_2)\n",
    "):\n",
    "    inplace_merge(array, left_boundary, midpoint, right_boundary)\n",
    "    print(array)"
   ]
  },
  {
   "cell_type": "markdown",
   "metadata": {},
   "source": [
    "## Merge-Sort Implementation\n",
    "\n",
    "### Not In Place"
   ]
  },
  {
   "cell_type": "code",
   "execution_count": 66,
   "metadata": {},
   "outputs": [],
   "source": [
    "def merge_sort(array):\n",
    "    length = len(array)\n",
    "    if length <= 1:\n",
    "        return array\n",
    "    midpoint = length // 2\n",
    "    left_array = merge_sort(array[0:midpoint])\n",
    "    right_array = merge_sort(array[midpoint:length])\n",
    "    return merge(left_array, right_array)"
   ]
  },
  {
   "cell_type": "markdown",
   "metadata": {},
   "source": [
    "### In Place"
   ]
  },
  {
   "cell_type": "code",
   "execution_count": 81,
   "metadata": {},
   "outputs": [],
   "source": [
    "def inplace_merge_sort(array, left_boundary, right_boundary):\n",
    "    if left_boundary >= right_boundary - 1:\n",
    "        return \n",
    "    midpoint = (right_boundary + left_boundary) // 2\n",
    "    inplace_merge_sort(array, left_boundary, midpoint)\n",
    "    inplace_merge_sort(array, midpoint, right_boundary)\n",
    "    inplace_merge(array, left_boundary, midpoint, right_boundary)"
   ]
  },
  {
   "cell_type": "markdown",
   "metadata": {},
   "source": [
    "### Testing (Not In Place)"
   ]
  },
  {
   "cell_type": "code",
   "execution_count": 75,
   "metadata": {},
   "outputs": [
    {
     "name": "stdout",
     "output_type": "stream",
     "text": [
      "[1, 2, 3, 4]\n",
      "[1, 2, 3, 4, 5, 6]\n",
      "[3, 4, 7, 9, 12]\n"
     ]
    }
   ],
   "source": [
    "test_array_1 = [4, 3, 2, 1]\n",
    "test_array_2 = [6, 5, 4, 3, 2, 1]\n",
    "test_array_3 = [12, 3, 4, 7, 9]\n",
    "\n",
    "for array in [test_array_1, test_array_2, test_array_3]:\n",
    "    print(merge_sort(array))"
   ]
  },
  {
   "cell_type": "markdown",
   "metadata": {},
   "source": [
    "### Testing (In Place)"
   ]
  },
  {
   "cell_type": "code",
   "execution_count": 84,
   "metadata": {},
   "outputs": [
    {
     "name": "stdout",
     "output_type": "stream",
     "text": [
      "[1, 2, 3, 4]\n",
      "[1, 2, 3, 4, 5, 6]\n",
      "[3, 4, 7, 9, 12]\n"
     ]
    }
   ],
   "source": [
    "test_array_1 = [4, 3, 2, 1]\n",
    "test_array_2 = [6, 5, 4, 3, 2, 1]\n",
    "test_array_3 = [12, 3, 4, 7, 9]\n",
    "\n",
    "for array in [test_array_1, test_array_2, test_array_3]:\n",
    "    inplace_merge_sort(array, 0, len(array))\n",
    "    print(array)"
   ]
  },
  {
   "cell_type": "markdown",
   "metadata": {},
   "source": [
    "### Performance\n",
    "\n",
    "Since we are adopting a divide-and-conquer approach, we will obtain a recursive equation for the performance. The division of the original problem of size $n$ yields $a$ subproblems, each of size $n/b$.  Assuming it takes $T(n)$ to solve the problem of size $n$, we can set the following:\n",
    "- It takes $D(n)$ time to divide the problem into $a$ subproblems.\n",
    "- It takes $C(n)$ time to combine the solutions to the subproblems into the original solutions.\n",
    "- It takes $a T(n/b)$ time to solve all of the subproblems.\n",
    "\n",
    "If $n < n_0$ for some constant $n_0$, we can assume the problem is solved in constant time. We get the following equation:\n",
    "\\begin{equation}\n",
    "  T(n)=\\begin{cases}\n",
    "    \\Theta(1) & \\text{if $n<n_0$}\\\\\n",
    "    D(n) + a T(n/b) + C(n) & \\text{otherwise}\n",
    "  \\end{cases}\n",
    "\\end{equation}\n",
    "\n",
    "In particular:\n",
    "- $D(n) = \\Theta(1)$, since computing the middle of the sub-array takes constant time.\n",
    "- In out case, $a = b = 2$.\n",
    "- The merge procedure takes linear time, so $C(n) = \\Theta(n)$, as pointed out before.\n",
    "\n",
    "As a result, we get that:\n",
    "\\begin{equation}\n",
    "  T(n) = 2 T(n/2) + \\Theta(n)\n",
    "\\end{equation}\n",
    "\n",
    "This yields $T(n) = \\Theta(n lg(n))$ by solving recurrencies."
   ]
  },
  {
   "cell_type": "markdown",
   "metadata": {},
   "source": [
    "## Additional Considerations\n",
    "\n",
    "### Insertion-Sort on Small Arrays\n",
    "\n",
    "`Insertion-sort` has a worst-case time of $\\Theta(n^2)$, but in small times it runs faster than `merge-sort` does. Suppose that after a few division steps in the `merge-sort` we reached $n/k$ sublists each of length $k$. Then, to sort an individual one of these, `insertion-sort` would take $\\Theta(k^2)$, so to sort all $n/k$ of these we have $\\Theta(n k)$ worst-case time.\\\n",
    "After sorting these with `insertion-sort`, we can merge them with `merge`. This is the same as having `merge-sort` skip the recursions for arrays of size smaller than or equal to $k$. To reach this level of recursion, we need to traverse a binary tree of height $lg(n/k) + 1 = \\Theta (lg(n/k))$. At height $i$ there will be $2^i$ nodes, each with time $\\Theta(n/2^i)$, so a given height has time $\\Theta(n)$. Across all heights, we achieve $\\Theta(n lg(n/k))$.\\\n",
    "As a result, the combination of the two algorithms runs in $\\Theta(n k + n lg(n/k))$. If $k = k(n)$, as long as $k \\el O(lg(n))$ then the combination of the two algorithms has the same running time as the merge sort. However, by optimizing for the running time coefficients, we could pick an optimized $k$ which improves on the original `merge-sort`"
   ]
  }
 ],
 "metadata": {
  "kernelspec": {
   "display_name": "Python 3",
   "language": "python",
   "name": "python3"
  },
  "language_info": {
   "codemirror_mode": {
    "name": "ipython",
    "version": 3
   },
   "file_extension": ".py",
   "mimetype": "text/x-python",
   "name": "python",
   "nbconvert_exporter": "python",
   "pygments_lexer": "ipython3",
   "version": "3.11.5"
  },
  "orig_nbformat": 4
 },
 "nbformat": 4,
 "nbformat_minor": 2
}
