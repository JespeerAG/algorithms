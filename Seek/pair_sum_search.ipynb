{
 "cells": [
  {
   "cell_type": "markdown",
   "metadata": {},
   "source": [
    "# Pair-Sum-Search\n",
    "### Definition\n",
    "\n",
    "**Input**: A sequence of $n$ numbers $<a_1, a_2, ..., a_n>$, identified as `array`, and a value $x$.\n",
    "\n",
    "**Output**: `True` if there are $a_i, a_j$ with $i != j$ such that $a_i + a_j = x$.\n",
    "\n",
    "### Algorithm\n",
    "\n",
    "Assuming that the sequence is ordered, the algorithm can scan from left and right at the same time, moving the respective index depending on whether the sum of the elements at the indices is superior or inferior to the target $x$. \\\n",
    "To reach optimization, the generic algorithm performs a merge sort to achieve the ordered hypothesis."
   ]
  },
  {
   "cell_type": "code",
   "execution_count": 2,
   "metadata": {},
   "outputs": [],
   "source": [
    "def merge (left_array, right_array):\n",
    "    left_length = len(left_array)\n",
    "    right_length = len(right_array)\n",
    "    return_array = []\n",
    "    left_i, right_i = (0, 0)\n",
    "    while left_i < left_length and right_i < right_length:\n",
    "        if left_array[left_i] <= right_array[right_i]:\n",
    "            return_array.append(left_array[left_i])\n",
    "            left_i += 1\n",
    "        else:\n",
    "            return_array.append(right_array[right_i])\n",
    "            right_i += 1\n",
    "    return_array.extend(left_array[left_i:])\n",
    "    return_array.extend(right_array[right_i:])\n",
    "    return return_array\n",
    "\n",
    "def merge_sort(array):\n",
    "    length = len(array)\n",
    "    if length <= 1:\n",
    "        return array\n",
    "    midpoint = length // 2\n",
    "    left_array = merge_sort(array[0:midpoint])\n",
    "    right_array = merge_sort(array[midpoint:length])\n",
    "    return merge(left_array, right_array)"
   ]
  },
  {
   "cell_type": "code",
   "execution_count": 15,
   "metadata": {},
   "outputs": [],
   "source": [
    "def pair_sum_search(array, target):\n",
    "    sorted_array = merge_sort(array)\n",
    "    i, j = 0, len(sorted_array) - 1\n",
    "    while i < j:\n",
    "        sum = sorted_array[i] + sorted_array[j]\n",
    "        if sum == target:\n",
    "            return True\n",
    "        if sum < target:\n",
    "            i += 1\n",
    "        else:\n",
    "            j -= 1\n",
    "    return False"
   ]
  },
  {
   "cell_type": "markdown",
   "metadata": {},
   "source": [
    "### Testing"
   ]
  },
  {
   "cell_type": "code",
   "execution_count": 19,
   "metadata": {},
   "outputs": [
    {
     "name": "stdout",
     "output_type": "stream",
     "text": [
      "0\n",
      "5\n",
      "Index for searching 17 in [1, 3, 4, 6, 7, 16, 18] is True\n",
      "0\n",
      "3\n",
      "Index for searching 7 in [1, 2, 4, 6, 8] is True\n",
      "Index for searching 25 in [3, 4, 7, 9, 25] is False\n"
     ]
    }
   ],
   "source": [
    "test_array_1 = [1, 3, 4, 6, 7, 16, 18]\n",
    "test_array_2 = [1, 2, 4, 6, 8]\n",
    "test_array_3 = [3, 4, 7, 9, 25]\n",
    "target_1 = 17 # 1 + 16\n",
    "target_2 = 7 # 1 + 7\n",
    "target_3 = 25 # Not possible\n",
    "\n",
    "for array, target in zip([test_array_1, test_array_2, test_array_3], [target_1, target_2, target_3]):\n",
    "    print(f\"Index for searching {target} in {str(array)} is {pair_sum_search(array, target)}\")"
   ]
  }
 ],
 "metadata": {
  "kernelspec": {
   "display_name": "Python 3",
   "language": "python",
   "name": "python3"
  },
  "language_info": {
   "codemirror_mode": {
    "name": "ipython",
    "version": 3
   },
   "file_extension": ".py",
   "mimetype": "text/x-python",
   "name": "python",
   "nbconvert_exporter": "python",
   "pygments_lexer": "ipython3",
   "version": "3.11.5"
  },
  "orig_nbformat": 4
 },
 "nbformat": 4,
 "nbformat_minor": 2
}
