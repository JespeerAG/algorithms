{
 "cells": [
  {
   "cell_type": "markdown",
   "metadata": {
    "notebookRunGroups": {
     "groupValue": ""
    }
   },
   "source": [
    "# Inversion-Counter\n",
    "\n",
    "### Inversion\n",
    "\n",
    "Given an array $<a_1, a_2, ..., a_n>$ of distinct numbers, a pair $(a_i, a_j)$ is called an *inversion* of the array if $i < j$ and $a_i > a_j$.\n",
    "\n",
    "### Definition\n",
    "\n",
    "**Input**: A sequence of $n$ distinct numbers $<a_1, a_2, ..., a_n>$, identified as `array`.\n",
    "\n",
    "**Output**: The number of inversions of the array.\n",
    "\n",
    "### Algorithm\n",
    "\n",
    "The algorithm can be thought of as adding information to the merge sort. It is a divide-and-conquer type of algorithm. It works in two phases:\n",
    "- Division: The array is divided in halves, then quarters, ... until each divided sub-array contains exactly one element.\n",
    "- Merge: The sub-arrays are merged together with an algorithm (Merge) which, given two sorted sub-arrays, yields the sorted merge of the two. Every time the merge requires to pick an element of the right-array before an element of the left-array, an inversion is added."
   ]
  },
  {
   "cell_type": "code",
   "execution_count": 68,
   "metadata": {},
   "outputs": [],
   "source": [
    "def merge_counter (array, left_boundary, midpoint, right_boundary):\n",
    "    counter = 0\n",
    "    left_array = array[left_boundary : midpoint]\n",
    "    right_array = array[midpoint : right_boundary]\n",
    "    (left_i, right_i, counter) = (0, 0, 0)\n",
    "    (left_len, right_len) = (len(left_array), len(right_array))\n",
    "    out_i = left_boundary\n",
    "\n",
    "    while left_i < left_len and right_i < right_len:\n",
    "        if left_array[left_i] <= right_array[right_i]:\n",
    "            array[out_i] = left_array[left_i]\n",
    "            left_i += 1\n",
    "        else:\n",
    "            array[out_i] = right_array[right_i]\n",
    "            right_i += 1\n",
    "            counter += left_len - left_i\n",
    "        out_i += 1\n",
    "    while left_i < left_len:\n",
    "        array[out_i] = left_array[left_i]\n",
    "        left_i += 1\n",
    "        out_i += 1\n",
    "    while right_i < right_len:\n",
    "        array[out_i] = right_array[right_i]\n",
    "        right_i += 1\n",
    "        out_i += 1\n",
    "    return counter"
   ]
  },
  {
   "cell_type": "code",
   "execution_count": 69,
   "metadata": {},
   "outputs": [],
   "source": [
    "def inversion_counter (array, left_boundary, right_boundary):\n",
    "    counter = 0\n",
    "    if left_boundary >= right_boundary - 1:\n",
    "        return 0\n",
    "    midpoint = (right_boundary + left_boundary) // 2\n",
    "    counter += inversion_counter(array, left_boundary, midpoint)\n",
    "    counter += inversion_counter(array, midpoint, right_boundary)\n",
    "    counter += merge_counter(array, left_boundary, midpoint, right_boundary)\n",
    "    return (counter)"
   ]
  },
  {
   "cell_type": "markdown",
   "metadata": {},
   "source": [
    "### Testing"
   ]
  },
  {
   "cell_type": "code",
   "execution_count": 73,
   "metadata": {},
   "outputs": [
    {
     "name": "stdout",
     "output_type": "stream",
     "text": [
      "6\n",
      "3\n",
      "5\n"
     ]
    }
   ],
   "source": [
    "test_array_1 = [4, 3, 2, 1]\n",
    "test_array_2 = [3, 2, 1]\n",
    "test_array_3 = [2, 3, 8, 6, 1]\n",
    "\n",
    "for array in [test_array_1, test_array_2, test_array_3]:\n",
    "    array_copy = array\n",
    "    print(inversion_counter(array_copy, 0, len(array_copy)))"
   ]
  },
  {
   "cell_type": "markdown",
   "metadata": {},
   "source": [
    "### Performance\n",
    "\n",
    "This operates with the same performance as the merge-sort, since it just collects additional information (`counter`) while performing the algorithm. As a consequence, it has a worst-case time of $\\Theta(n lg(n))$."
   ]
  }
 ],
 "metadata": {
  "kernelspec": {
   "display_name": "Python 3",
   "language": "python",
   "name": "python3"
  },
  "language_info": {
   "codemirror_mode": {
    "name": "ipython",
    "version": 3
   },
   "file_extension": ".py",
   "mimetype": "text/x-python",
   "name": "python",
   "nbconvert_exporter": "python",
   "pygments_lexer": "ipython3",
   "version": "3.11.5"
  },
  "orig_nbformat": 4
 },
 "nbformat": 4,
 "nbformat_minor": 2
}
