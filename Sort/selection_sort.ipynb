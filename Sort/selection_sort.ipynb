{
 "cells": [
  {
   "cell_type": "markdown",
   "metadata": {
    "notebookRunGroups": {
     "groupValue": ""
    }
   },
   "source": [
    "# Selection-Sort\n",
    "\n",
    "### Definition\n",
    "\n",
    "**Input**: A sequence of $n$ distinct numbers $<a_1, a_2, ..., a_n>$, identified as `array`.\n",
    "\n",
    "**Output**: A permutation $<b_1, b_2, ..., b_n>$ of the input sequence such that $b_1 \\leq b_2 \\leq ... \\leq b_n$\n",
    "\n",
    "The numbers to be sorted are known as the **keys**.\n",
    "\n",
    "### Algorithm\n",
    "\n",
    "The algorithm can be thought of as \"proceeding by minimums\". The algorithm scans the array for the minimum, moves it to the leftmost spot and then repeats the procedure for the remainder of the array."
   ]
  },
  {
   "cell_type": "code",
   "execution_count": 40,
   "metadata": {},
   "outputs": [],
   "source": [
    "def get_min_index (array):\n",
    "    index = 0\n",
    "    for i in range(1, len(array)):\n",
    "        if array[i] < array[index]:\n",
    "            index = i\n",
    "    return index\n",
    "\n",
    "def selection_sort (array):\n",
    "    for i in range(len(array) - 1):\n",
    "        sub_array = array[i:len(array)]\n",
    "        min_index = get_min_index(sub_array)\n",
    "        min_value = sub_array[min_index]\n",
    "        j = i + min_index - 1\n",
    "        while j >= i:\n",
    "            array[j + 1] = array[j]\n",
    "            j -= 1\n",
    "        array[i] = min_value\n",
    "    return array"
   ]
  },
  {
   "cell_type": "markdown",
   "metadata": {},
   "source": [
    "### Testing"
   ]
  },
  {
   "cell_type": "code",
   "execution_count": 41,
   "metadata": {},
   "outputs": [
    {
     "name": "stdout",
     "output_type": "stream",
     "text": [
      "[2, 3, 4, 5, 7, 15, 16]\n",
      "[1, 2, 3, 4, 5, 6]\n",
      "[3, 4, 7, 9, 12]\n"
     ]
    }
   ],
   "source": [
    "test_array_1 = [7, 4, 3, 5, 15, 2, 16]\n",
    "test_array_2 = [6, 5, 4, 3, 2, 1]\n",
    "test_array_3 = [12, 3, 4, 7, 9]\n",
    "\n",
    "for array in [test_array_1, test_array_2, test_array_3]:\n",
    "    selection_sort(array)\n",
    "    print(array)"
   ]
  }
 ],
 "metadata": {
  "kernelspec": {
   "display_name": "Python 3",
   "language": "python",
   "name": "python3"
  },
  "language_info": {
   "codemirror_mode": {
    "name": "ipython",
    "version": 3
   },
   "file_extension": ".py",
   "mimetype": "text/x-python",
   "name": "python",
   "nbconvert_exporter": "python",
   "pygments_lexer": "ipython3",
   "version": "3.11.5"
  },
  "orig_nbformat": 4
 },
 "nbformat": 4,
 "nbformat_minor": 2
}
