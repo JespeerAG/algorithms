{
 "cells": [
  {
   "cell_type": "markdown",
   "metadata": {},
   "source": [
    "# Asymptotic Notation"
   ]
  },
  {
   "cell_type": "markdown",
   "metadata": {},
   "source": [
    "## Definitions\n",
    "\n",
    "### O-notation\n",
    "\n",
    "The $O$-notation describes an **asymptotic upper bound**. Given a function $g(n)$, we define:\n",
    "\\begin{equation}\n",
    "    O(g(n)) = \\{f(n) : \\exists c, n_0 > 0 : \\forall n \\geq n_0 : 0 \\leq f(n) \\leq c g(n)\\}\n",
    "\\end{equation}\n",
    "\n",
    "This requires for each such $f(n)$ to be **asymptotically non-negative**, that is, belonging to $O(0)$, or equivalently being non-negative whenever $n$ is sufficiently large.\n",
    "\n",
    "### $\\Omega$-notation\n",
    "\n",
    "The $\\Omega$-notation describes an **asymptotic lower bound**. Given a function $g(n)$, we define:\n",
    "\\begin{equation}\n",
    "    \\Omega(g(n)) = \\{f(n) : \\exists c, n_0 > 0 : \\forall n \\geq n_0 : 0 \\leq c g(n) \\leq f(n)\\}\n",
    "\\end{equation}\n",
    "\n",
    "### $\\Theta$-notation\n",
    "\n",
    "The $\\Theta$-notation describes an **asymptotic tight bound**. Given a function $g(n)$, we define:\n",
    "\\begin{equation}\n",
    "    \\Theta(g(n)) = \\{f(n) : \\exists c_1, c_2, n_0 > 0 : \\forall n \\geq n_0 : 0 \\leq c_1 g(n) \\leq f(n) \\leq c_2 g(n)\\}\n",
    "\\end{equation}"
   ]
  },
  {
   "cell_type": "markdown",
   "metadata": {},
   "source": [
    "## Theorems\n",
    "\n",
    "*Note*: For each notation we indicate that $f(n)$ *equals* the notation, instead of belonging in it. While this is informal, it is used for ease of notation. Additionally, when a notation is used in an expression, it is used as a placeholder for a function belonging to that notation.\\\n",
    "For example, $1 + x + O(x^2)$  indicates $1 + x + f(x)$ where $f(x) \\in O(x^2)$. We expect for these to always present on the right hand side of the equation.\n",
    "\n",
    "If we get notations on the left hand side of the equation as well, e.g. $2 n^2 + O(n) = O(n^2)$, that means that we can always pick a function for the right hand side notation such that  \n",
    "\n",
    "### Asymptotic Notations Theorem\n",
    "\n",
    "**Theorem**: For any two functions $f(n)$ and $g(n)$, we have $f(n) = \\Theta(g(n))$ if and only if $f(n) = O(g(n))$ and $f(n) = \\Omega(g(n))$.\\\n",
    "**Proof**: The forwards direction follows directly from the definitions. For the backward direction pick $n_0$ for $\\Theta$ maximum between the $n_0$ for $O$ and for $\\Omega$. Then the constants given by the definitions for $\\Omega$ and $O$ also satisfy the definition for $\\Theta$."
   ]
  }
 ],
 "metadata": {
  "language_info": {
   "name": "python"
  }
 },
 "nbformat": 4,
 "nbformat_minor": 2
}
