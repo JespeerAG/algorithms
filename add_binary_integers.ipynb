{
 "cells": [
  {
   "cell_type": "markdown",
   "metadata": {},
   "source": [
    "# Add-Binary-Integers\n",
    "### Definition\n",
    "\n",
    "**Input**: Two $n$-element arrays `A[0:n]` and `B[0:n]`, where each element is in ${0, 1}$, encoding two numbers $a = \\sum_{i=0}^{n-1}A[i] 2^i$ and $b = \\sum_{i=0}^{n-1}B[i] 2^i$.\n",
    "\n",
    "**Output**: An $n+1$ element array `C[0:n+1]` encoding the number $c = a + b$ in binary form.\n",
    "\n",
    "### Algorithm\n",
    "\n",
    "The algorithm will sum matching decimal places, with a carryover digit where relevant."
   ]
  },
  {
   "cell_type": "code",
   "execution_count": 15,
   "metadata": {},
   "outputs": [],
   "source": [
    "def add_binary_integers(array_A, array_B):\n",
    "    n = len(array_A)\n",
    "    array_C = [0 for i in range(n+1)]\n",
    "\n",
    "    carryover = 0\n",
    "    for i in range(0, n):\n",
    "        carryover, array_C[i] = divmod((array_A[i] + array_B[i] + carryover), 2)\n",
    "    array_C[n] = carryover\n",
    "    return array_C"
   ]
  },
  {
   "cell_type": "markdown",
   "metadata": {},
   "source": [
    "### Testing"
   ]
  },
  {
   "cell_type": "code",
   "execution_count": 16,
   "metadata": {},
   "outputs": [
    {
     "name": "stdout",
     "output_type": "stream",
     "text": [
      "0101101 + 1001011 = 01111000\n",
      "1110100 + 1011001 = 11001101\n"
     ]
    }
   ],
   "source": [
    "def display_binary(array):\n",
    "    return ''.join([str(i) for i in reversed(array)])\n",
    "\n",
    "test_arrays_1 = ([1, 0, 1, 1, 0, 1, 0], [1, 1, 0, 1, 0, 0, 1])\n",
    "test_arrays_2 = ([0, 0, 1, 0, 1, 1, 1], [1, 0, 0, 1, 1, 0, 1])\n",
    "\n",
    "for array_A, array_B in [test_arrays_1, test_arrays_2]:\n",
    "    print(f\"{display_binary(array_A)} + {display_binary(array_B)} = {display_binary(add_binary_integers(array_A, array_B))}\")"
   ]
  }
 ],
 "metadata": {
  "kernelspec": {
   "display_name": "Python 3",
   "language": "python",
   "name": "python3"
  },
  "language_info": {
   "codemirror_mode": {
    "name": "ipython",
    "version": 3
   },
   "file_extension": ".py",
   "mimetype": "text/x-python",
   "name": "python",
   "nbconvert_exporter": "python",
   "pygments_lexer": "ipython3",
   "version": "3.11.5"
  },
  "orig_nbformat": 4
 },
 "nbformat": 4,
 "nbformat_minor": 2
}
