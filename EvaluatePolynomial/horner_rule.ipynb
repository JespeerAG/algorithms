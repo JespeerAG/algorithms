{
 "cells": [
  {
   "cell_type": "markdown",
   "metadata": {
    "notebookRunGroups": {
     "groupValue": ""
    }
   },
   "source": [
    "# Horner-rule\n",
    "\n",
    "### Definition\n",
    "\n",
    "**Input**: A polynomial $P(x) = \\sum_{k = 0}^{n} a_k x^k$, with coefficients stored in an array $<a_0, ..., a_{n}>$, and a value $\\alpha$.\n",
    "\n",
    "**Output**: The evaluation $P(\\alpha)$.\n",
    "\n",
    "### Algorithm\n",
    "\n",
    "The algorithm considers the wrapping in parentheses as follows:\n",
    "\\begin{equation}\n",
    "  P(x) = a_0 + x(a_1 + x(a_2 + ... + x(a_{n-1} + x a_{n})))\n",
    "\\end{equation}\n",
    "It then proceeds to compute the evaluation from the inner parentheses on the right ($a_{n-1} + \\alpha_a{n}$) all the way to $a_0$."
   ]
  },
  {
   "cell_type": "code",
   "execution_count": 28,
   "metadata": {},
   "outputs": [],
   "source": [
    "def horner_rule (polynomial_array, value):\n",
    "    eval = 0\n",
    "    for i in reversed(range(len(polynomial_array))):\n",
    "        eval = polynomial_array[i] + value * eval\n",
    "    return eval"
   ]
  },
  {
   "cell_type": "markdown",
   "metadata": {},
   "source": [
    "### Testing"
   ]
  },
  {
   "cell_type": "code",
   "execution_count": 30,
   "metadata": {},
   "outputs": [
    {
     "name": "stdout",
     "output_type": "stream",
     "text": [
      "11\n",
      "9\n"
     ]
    }
   ],
   "source": [
    "test_array_1 = [7, 2] # 7 + 2x\n",
    "test_array_2 = [1, 0, 0, 1] # 1 + x^3\n",
    "\n",
    "value = 2\n",
    "\n",
    "for array in [test_array_1, test_array_2]:\n",
    "    print (horner_rule(array, value))"
   ]
  },
  {
   "cell_type": "markdown",
   "metadata": {},
   "source": [
    "### Performance\n",
    "\n",
    "The array is iterated across exactly one time, and an operation is performed at each iteration. This yields a performance of $\\Theta(n)$."
   ]
  }
 ],
 "metadata": {
  "kernelspec": {
   "display_name": "Python 3",
   "language": "python",
   "name": "python3"
  },
  "language_info": {
   "codemirror_mode": {
    "name": "ipython",
    "version": 3
   },
   "file_extension": ".py",
   "mimetype": "text/x-python",
   "name": "python",
   "nbconvert_exporter": "python",
   "pygments_lexer": "ipython3",
   "version": "3.11.4"
  },
  "orig_nbformat": 4
 },
 "nbformat": 4,
 "nbformat_minor": 2
}
