{
 "cells": [
  {
   "cell_type": "markdown",
   "metadata": {
    "notebookRunGroups": {
     "groupValue": ""
    }
   },
   "source": [
    "# Insertion-Sort\n",
    "\n",
    "### Definition\n",
    "\n",
    "**Input**: A sequence of $n$ distinct numbers $<a_1, a_2, ..., a_n>$, identified as `array`.\n",
    "\n",
    "**Output**: A permutation $<b_1, b_2, ..., b_n>$ of the input sequence such that $b_1 \\leq b_2 \\leq ... \\leq b_n$\n",
    "\n",
    "The numbers to be sorted are known as the **keys**.\n",
    "\n",
    "### Algorithm\n",
    "\n",
    "The algorithm can be thought of as sorting a hand of cards.\n",
    "Starting from the leftmost card in the hand and moving towards the right, take each card and move it to the left until there are no cards smaller than it to its left."
   ]
  },
  {
   "cell_type": "code",
   "execution_count": 14,
   "metadata": {},
   "outputs": [],
   "source": [
    "def insertion_sort (array):\n",
    "    for i in range(1, len(array)):\n",
    "        key = array[i] # The card picked in the hand\n",
    "        j = i - 1\n",
    "        while j >= 0 and array[j] > key: # Scrolling to the left until there are no smaller cards. The \">\" between array[j] and key determines the ordering.\n",
    "            array[j + 1] = array[j]\n",
    "            j -= 1\n",
    "        array[j + 1] = key\n",
    "    return array"
   ]
  },
  {
   "cell_type": "markdown",
   "metadata": {},
   "source": [
    "### Testing"
   ]
  },
  {
   "cell_type": "code",
   "execution_count": 15,
   "metadata": {},
   "outputs": [
    {
     "name": "stdout",
     "output_type": "stream",
     "text": [
      "[1, 2, 3, 4, 5, 15, 16]\n",
      "[1, 2, 3, 4, 5, 6]\n",
      "[3, 4, 7, 9, 12]\n"
     ]
    }
   ],
   "source": [
    "test_array_1 = [1, 4, 3, 5, 15, 2, 16]\n",
    "test_array_2 = [6, 5, 4, 3, 2, 1]\n",
    "test_array_3 = [12, 3, 4, 7, 9]\n",
    "\n",
    "for array in [test_array_1, test_array_2, test_array_3]:\n",
    "    insertion_sort(array)\n",
    "    print(array)"
   ]
  },
  {
   "cell_type": "markdown",
   "metadata": {},
   "source": [
    "### Proof by Loop Invariant\n",
    "\n",
    "> *Invariant Claim*: The elements of `array[0:i]` are sorted in increasing order at the beginning of the $i^{th}$ loop.\n",
    "\n",
    "Let $n$ be `len(array)`.\n",
    "\n",
    "**Initialization**: At the beginning, `i = 1` and `array[0:1] = [array[0]]` is a one-element array, so it is vacuously sorted.\n",
    "\n",
    "**Maintenance**: Suppose that at the beginning of the $i^{th}$ loop, `array[0:i]` is sorted, and consider `key = array[i]`. Let `k` be the smallest element such that `key` is smaller than all the elements of `array[k:i]`. Due to ordering, this implies that `key` is greater than all the elements of `array[0:k]`.\\\n",
    "If `key` is smaller than all elements of `array[k:i]`, the `array[j] > key` condition remains true during the iteration of the `while` loop's iterator `j` from `i - 1` to `k` (inclusive). The `array[j + 1] = array[j]` line results in rotating `array[k:i]` right by one space, and `array[k] = key` sets `key` in an ordered spot, since it is greater than all the elements preceding it (`array[0:k]`) and by construction smaller than all the elements succeeding it (`array[k+1:i+1]`).\n",
    "\n",
    "**Termination**: The algorithm terminates with $i = n$. By invariant claim, `array[0:n]` is sorted, but this equals `array` by definition."
   ]
  }
 ],
 "metadata": {
  "kernelspec": {
   "display_name": "Python 3",
   "language": "python",
   "name": "python3"
  },
  "language_info": {
   "codemirror_mode": {
    "name": "ipython",
    "version": 3
   },
   "file_extension": ".py",
   "mimetype": "text/x-python",
   "name": "python",
   "nbconvert_exporter": "python",
   "pygments_lexer": "ipython3",
   "version": "3.11.5"
  },
  "orig_nbformat": 4
 },
 "nbformat": 4,
 "nbformat_minor": 2
}
